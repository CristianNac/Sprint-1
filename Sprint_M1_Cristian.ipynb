{
  "nbformat": 4,
  "nbformat_minor": 0,
  "metadata": {
    "colab": {
      "provenance": []
    },
    "kernelspec": {
      "name": "python3",
      "display_name": "Python 3"
    },
    "language_info": {
      "name": "python"
    }
  },
  "cells": [
    {
      "cell_type": "markdown",
      "source": [
        "#Módulo: Fundamentos de programación en Python\n",
        "#Sprint M1\n",
        "##Nombre del estudiante: Cristian ."
      ],
      "metadata": {
        "id": "xjIqa-PP0rJY"
      }
    },
    {
      "cell_type": "markdown",
      "source": [
        "#Parte 1\n",
        "Diseñe e implemente una clase Producto con los siguientes atributos: id, nombre, descripción, cantidad y precio. La clase debe incluir métodos para obtener y modificar la información de los productos."
      ],
      "metadata": {
        "id": "t4Q7s0hI1HTr"
      }
    },
    {
      "cell_type": "code",
      "source": [
        "#Definición de la clase Producto y sus atributos\n",
        "\n",
        "class Producto:\n",
        "  def __init__(self, id, nombre, descripcion, cantidad, precio):\n",
        "    self.id = id\n",
        "    self.nombre = nombre\n",
        "    self.descripcion = descripcion\n",
        "    self.cantidad = cantidad\n",
        "    self.precio = precio\n",
        "\n",
        "#Definición del método para poder consultar información acerca del producto\n",
        "\n",
        "  def consultar_prod(self):\n",
        "    return f\"El id del producto es {self.id}\\n\\\n",
        "     El nombre del producto es {self.nombre}\\n\\\n",
        "      La descripción del producto es {self.descripcion}\\n\\\n",
        "       La cantidad del producto es {self.cantidad}\\n\\\n",
        "        El precio del producto es {self.precio}\\n\"\n",
        "\n",
        "#A continuación se agregan métodos a la clase para modificar el precio, cantidad\n",
        "# y descripción, se consideró que tanto el id, nombre no varirán.\n",
        "\n",
        "  def modificar_descrip(self,nueva_descrip):\n",
        "    self.descripcion = nueva_descrip\n",
        "\n",
        "  def modificar_precio(self,precio_nuevo):\n",
        "    self.precio = precio_nuevo\n",
        "\n",
        "  def modificar_cantidad(self,nueva_cantidad):\n",
        "    self.cantidad = nueva_cantidad\n",
        "\n",
        "\n",
        "#Prueba\n",
        "tomate = Producto(2, \"tomate\", \"rojo y maduro\", 4, 1000)\n",
        "resultado = tomate.consultar_prod()\n",
        "print(resultado)\n",
        "\n",
        "new_precio = tomate.modificar_precio(800)\n",
        "resultado_nuevo = tomate.consultar_prod()\n",
        "print(resultado_nuevo)\n",
        "\n"
      ],
      "metadata": {
        "colab": {
          "base_uri": "https://localhost:8080/"
        },
        "id": "kCBd4f6m1hYW",
        "outputId": "52e5992c-103a-4cbb-a936-9cfe5f11b0e2"
      },
      "execution_count": null,
      "outputs": [
        {
          "output_type": "stream",
          "name": "stdout",
          "text": [
            "El id del producto es 2\n",
            "     El nombre del producto es tomate\n",
            "      La descripción del producto es rojo y maduro\n",
            "       La cantidad del producto es 4\n",
            "        El precio del producto es 1000\n",
            "\n",
            "El id del producto es 2\n",
            "     El nombre del producto es tomate\n",
            "      La descripción del producto es rojo y maduro\n",
            "       La cantidad del producto es 4\n",
            "        El precio del producto es 800\n",
            "\n"
          ]
        }
      ]
    },
    {
      "cell_type": "markdown",
      "source": [
        "#Parte 2\n",
        "Diseñe e implemente una clase inventario que utilice una estructura de datos, (por ejemplo un diccionario), para almacenar objetos de la clase Producto. La clase inventario debe incluir métodos para realizar las siguientes operaciones:\n",
        "- Agregar un producto al inventario.\n",
        "- Eliminar un producto del inventario.\n",
        "- Actualizar información de un producto del inventario.\n",
        "- Buscar un producto del inventario por su id.\n",
        "- Listar todos los productos en el inventario, incluyendo información como la cantidad total de productos y el valor total del inventario."
      ],
      "metadata": {
        "id": "jsGUuggBOjDU"
      }
    },
    {
      "cell_type": "code",
      "source": [
        "#Definición de la clase inventario utilizando un diccionario como atributo para\n",
        "#almacenar la información de los productos\n",
        "\n",
        "class Inventario:\n",
        "  def __init__(self):\n",
        "    self.productos = {}\n",
        "\n",
        "#Definición del método para agregar productos al inventario\n",
        "\n",
        "  def agregar_prod(self, producto):\n",
        "    self.productos[producto.id] = producto\n",
        "\n",
        "#Definición del método para poder eliminar productos del inventario de acuerdo\n",
        "#al id ingresado\n",
        "\n",
        "  def eliminar_prod(self, id_producto):\n",
        "    if id_producto in self.productos:\n",
        "      del self.productos[id_producto]\n",
        "\n",
        "#Definición del método para actualizar productos existentes en el inventario\n",
        "#ingresando un valor de id que debe coincidir con algún producto ya existente\n",
        "\n",
        "  def actualizar_prod(self,id_producto, nueva_descripcion = None, nuevo_precio = None, nueva_cantidad = None):\n",
        "    if id_producto in self.productos:\n",
        "      producto = self.productos[id_producto]\n",
        "      if nueva_descripcion is not None:\n",
        "        producto.modificar_descrip(nueva_descripcion)\n",
        "      if nuevo_precio is not None:\n",
        "        producto.modificar_precio(nuevo_precio)\n",
        "      if nueva_cantidad is not None:\n",
        "        producto.modificar_cantidad(nueva_cantidad)\n",
        "\n",
        "#Definición de método para buscar un producto dentro del inventario utilizando\n",
        "#como información de entrada el id de un producto\n",
        "\n",
        "  def buscar_product(self, id_producto):\n",
        "    if id_producto in self.productos:\n",
        "      return self.productos.get(id_producto, None)\n",
        "\n",
        "\n"
      ],
      "metadata": {
        "id": "g4O6D6v7RLZp"
      },
      "execution_count": null,
      "outputs": []
    },
    {
      "cell_type": "markdown",
      "source": [
        "#Parte 3\n",
        "Implemente un menú de usuario que permita a los usuarios interactuar con el sistema de gestión de inventario. El menú debe incluir opciones para realizar las diferentes operaciones disponibles en la clase Inventario. Utilice un bucle while y estructuras de control if-elif-else para manejar las opciones del menú (opcional)"
      ],
      "metadata": {
        "id": "y7CNQndgdYrq"
      }
    },
    {
      "cell_type": "code",
      "source": [
        "#Aquí se asigna la clase Inventario a inventario para usarlo posteriormente\n",
        "\n",
        "inventario = Inventario()\n",
        "\n",
        "#Se genera una interfaz para que interactúe el usuario dándole 4 opciones a\n",
        "#realizar y una quinta para salir del sistema\n",
        "\n",
        "print(\"Bienvenido al menú de inventario de productos\")\n",
        "boton = input(\"Las opciones son las siguientes agregar = 'a' eliminar = 'e'\\\n",
        " actualizar = 'act' buscar = 'b' \")\n",
        "while True:\n",
        "\n",
        "#Esta opción \"0\" es para detener el bucle y no se haga infinito\n",
        "\n",
        "  if boton == \"0\":\n",
        "    break\n",
        "\n",
        "#Al ingresar a por consola se puede agregar un producto al inventario y\n",
        "# posteriormente se solicitan los datos de ese producto para ingresarlo\n",
        "\n",
        "  elif boton == \"a\":\n",
        "    id = int(input(\"Ingrese el id del producto: \"))\n",
        "    nombre = input(\"Ingrese el nombre del producto: \")\n",
        "    descripcion = input(\"Ingrese la descripción del producto: \")\n",
        "    cantidad = input(\"Ingrese la cantidad del producto: \")\n",
        "    precio = input(\"Ingrese el precio del producto: \")\n",
        "    producto = Producto(id, nombre, descripcion, cantidad, precio)\n",
        "    inventario.agregar_prod(producto)\n",
        "    print(\"El producto fue agregado exitosamente al inventario \")\n",
        "    break\n",
        "\n",
        "#Al ingresar la opción b se busca la existencia de un producto en el inventario.\n",
        "#El bloque try y except están ahí por si el id no existe en el inventario arroje\n",
        "#un error, además de prevenir id mal ingresados.\n",
        "\n",
        "  elif boton == \"b\":\n",
        "    try:\n",
        "      id = int(input(\"Ingrese el id del producto que busca saber información \"))\n",
        "      producto_buscado = inventario.buscar_product(id)\n",
        "      print(producto_buscado)\n",
        "      if producto_buscado is not None:\n",
        "        print(f\"La información del producto buscado es: {producto_buscado}\")\n",
        "      else:\n",
        "        raise Exception(\"No existe un producto con el id ingresado\")\n",
        "    except ValueError:\n",
        "      raise ValueError(\"Ingresó un valor inválido para el id\")\n",
        "    break\n",
        "\n",
        "#Al ingresar la opción e se intenta eliminar un producto del inventario en caso\n",
        "#de encontrar una coincidencia de id, en caso contrario se arrojará un error\n",
        "#que no existe un producto con ese id en el inventario\n",
        "\n",
        "  elif boton == \"e\":\n",
        "    try:\n",
        "      id = int(input(\"Ingrese el id del producto que desea eliminar: \"))\n",
        "      producto_a_eliminar = inventario.eliminar_prod(id)\n",
        "      if producto_a_eliminar is not None:\n",
        "        print(\"El producto ha sido eliminado correctamente \")\n",
        "      else:\n",
        "        raise Exception(\"No existe un producto con el id ingresado\")\n",
        "    except ValueError:\n",
        "      raise ValueError(\"Ingresó un valor inválido para el id\")\n",
        "    break\n",
        "\n",
        "#Al ingresar la opción act se intenta actualizar la información de un producto\n",
        "#en el inventario en caso de no existir un producto con ese id se arrojará un\n",
        "#error que no existe un producto con ese id\n",
        "\n",
        "  elif boton == \"act\":\n",
        "    try:\n",
        "      id = int(input(\"Ingrese el id del producto que desea actualizar: \"))\n",
        "      producto_a_actualizar = inventario.actualizar_prod(id)\n",
        "      if producto_a_actualizar is not None:\n",
        "        print(\"El producto ha sido actualizado correctamente\")\n",
        "      else:\n",
        "        raise Exception(\"No existe un producto con el id ingresado\")\n",
        "    except ValueError:\n",
        "      raise ValueError(\"Ingresó un valor inválido para el id\")\n",
        "    break\n"
      ],
      "metadata": {
        "colab": {
          "base_uri": "https://localhost:8080/"
        },
        "id": "nNvGXgncdVKM",
        "outputId": "9c59e8e0-f570-4b24-ab0b-78dc2356fb35"
      },
      "execution_count": null,
      "outputs": [
        {
          "output_type": "stream",
          "name": "stdout",
          "text": [
            "Bienvenido al menú de inventario de productos\n",
            "Las opciones son las siguientes agregar = 'a' eliminar = 'e' actualizar = 'act' buscar = 'b' a\n",
            "Ingrese el id del producto: 1\n",
            "Ingrese el nombre del producto: tomate\n",
            "Ingrese la descripción del producto: rojo y jugoso\n",
            "Ingrese la cantidad del producto: 3\n",
            "Ingrese el precio del producto: 1000\n",
            "El producto fue agregado exitosamente al inventario \n"
          ]
        }
      ]
    }
  ]
}